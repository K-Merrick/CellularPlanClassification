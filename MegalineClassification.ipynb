{
 "cells": [
  {
   "cell_type": "markdown",
   "metadata": {},
   "source": [
    "# Megaline Plan Prediction Modeling\n",
    "\n",
    "After having processed a set of Megaline's user data and conducted statistical analysis on it, we've been asked to develop a machine learning model that would analyse subscribers' behavior and recommend one of Megaline's newer plans for each user - that is, the Smart or Ultra plan. We have access to monthly data on the number of calls each user has made, the total duration of calls made, the number of messages they sent, how much data they used in Megabytes, and whether they are currently on a Smart or Ultra plan. Given that the desired outcome of the machine learning model is to separate users into two categories (i.e., ultra or not-ultra), this is a classification task. We have been asked to generate a classification model with an accuracy of above .75. \n",
    "\n",
    "**Table of Contents:**\n",
    "* [1 Import Libraries and Prepare Data for Modeling](#1)\n",
    "    * [1.1 Import Libraries](#1.1)\n",
    "    * [1.2 Import & Examine Data](#1.2)\n",
    "    * [1.3 Split the Data Into Training, Validation, and Testing Data](#1.3)\n",
    "* [2 Model Training](#2)\n",
    "    * [2.1 Logistic Regression Model](#2.1)\n",
    "    * [2.2 Decision Tree Model](#2.2)\n",
    "    * [2.3 Random Forest Model](#2.3)\n",
    "    * [2.4 Model Training Conclusion](#2.4)\n",
    "* [3 Model Testing](#3)\n",
    "    * [3.1 Logistic Regression Test](#3.1)\n",
    "    * [3.2 Decision Tree Test](#3.2)\n",
    "    * [3.3 Random Forest Test](#3.3)\n",
    "    * [3.4 Model Testing Conclusion](#3.4)\n",
    "* [4 Sanity Checking](#4)\n",
    "    * [4.1 Check for Duplicates](#4.1)\n",
    "    * [4.2 Check for Negative Values](#4.2)\n",
    "    * [4.3 Generate Classification Report](#4.3)\n",
    "    * [4.4 Examine Distributions](#4.4)\n",
    "    * [4.5 Test Equally Distributed Dataset](#4.5)\n",
    "    * [4.6 Sanity Checking Conclusion](#4.6)\n",
    "* [5 Conclusion](#5)"
   ]
  },
  {
   "cell_type": "markdown",
   "metadata": {},
   "source": [
    "## Import Libraries and Prepare Data for Modeling<a class=\"anchor\" id='1'></a>"
   ]
  },
  {
   "cell_type": "markdown",
   "metadata": {},
   "source": [
    "### Import Libraries<a class=\"anchor\" id='1.1'></a>"
   ]
  },
  {
   "cell_type": "code",
   "execution_count": 1,
   "metadata": {},
   "outputs": [],
   "source": [
    "import pandas as pd\n",
    "from sklearn.tree import DecisionTreeClassifier\n",
    "from sklearn.linear_model import LogisticRegression\n",
    "from sklearn.ensemble import RandomForestClassifier\n",
    "from sklearn.metrics import accuracy_score\n",
    "from sklearn.metrics import confusion_matrix\n",
    "from sklearn.metrics import classification_report\n",
    "from sklearn.model_selection import train_test_split\n",
    "from matplotlib import pyplot as plt\n",
    "import pandas as pd\n",
    "import numpy as np\n",
    "import warnings\n",
    "warnings.filterwarnings('ignore')\n",
    "import seaborn as sn"
   ]
  },
  {
   "cell_type": "markdown",
   "metadata": {},
   "source": [
    "### Import & Examine Data<a class=\"anchor\" id='1.2'></a>"
   ]
  },
  {
   "cell_type": "code",
   "execution_count": 2,
   "metadata": {},
   "outputs": [],
   "source": [
    "try:\n",
    "    user_df = pd.read_csv('/datasets/users_behavior.csv')\n",
    "except:\n",
    "    user_df = pd.read_csv('https://code.s3.yandex.net/datasets/users_behavior.csv')"
   ]
  },
  {
   "cell_type": "code",
   "execution_count": 3,
   "metadata": {},
   "outputs": [
    {
     "name": "stdout",
     "output_type": "stream",
     "text": [
      "Sample of DataFrame:\n"
     ]
    },
    {
     "data": {
      "text/html": [
       "<div>\n",
       "<style scoped>\n",
       "    .dataframe tbody tr th:only-of-type {\n",
       "        vertical-align: middle;\n",
       "    }\n",
       "\n",
       "    .dataframe tbody tr th {\n",
       "        vertical-align: top;\n",
       "    }\n",
       "\n",
       "    .dataframe thead th {\n",
       "        text-align: right;\n",
       "    }\n",
       "</style>\n",
       "<table border=\"1\" class=\"dataframe\">\n",
       "  <thead>\n",
       "    <tr style=\"text-align: right;\">\n",
       "      <th></th>\n",
       "      <th>calls</th>\n",
       "      <th>minutes</th>\n",
       "      <th>messages</th>\n",
       "      <th>mb_used</th>\n",
       "      <th>is_ultra</th>\n",
       "    </tr>\n",
       "  </thead>\n",
       "  <tbody>\n",
       "    <tr>\n",
       "      <td>0</td>\n",
       "      <td>40.0</td>\n",
       "      <td>311.90</td>\n",
       "      <td>83.0</td>\n",
       "      <td>19915.42</td>\n",
       "      <td>0</td>\n",
       "    </tr>\n",
       "    <tr>\n",
       "      <td>1</td>\n",
       "      <td>85.0</td>\n",
       "      <td>516.75</td>\n",
       "      <td>56.0</td>\n",
       "      <td>22696.96</td>\n",
       "      <td>0</td>\n",
       "    </tr>\n",
       "    <tr>\n",
       "      <td>2</td>\n",
       "      <td>77.0</td>\n",
       "      <td>467.66</td>\n",
       "      <td>86.0</td>\n",
       "      <td>21060.45</td>\n",
       "      <td>0</td>\n",
       "    </tr>\n",
       "    <tr>\n",
       "      <td>3</td>\n",
       "      <td>106.0</td>\n",
       "      <td>745.53</td>\n",
       "      <td>81.0</td>\n",
       "      <td>8437.39</td>\n",
       "      <td>1</td>\n",
       "    </tr>\n",
       "    <tr>\n",
       "      <td>4</td>\n",
       "      <td>66.0</td>\n",
       "      <td>418.74</td>\n",
       "      <td>1.0</td>\n",
       "      <td>14502.75</td>\n",
       "      <td>0</td>\n",
       "    </tr>\n",
       "  </tbody>\n",
       "</table>\n",
       "</div>"
      ],
      "text/plain": [
       "   calls  minutes  messages   mb_used  is_ultra\n",
       "0   40.0   311.90      83.0  19915.42         0\n",
       "1   85.0   516.75      56.0  22696.96         0\n",
       "2   77.0   467.66      86.0  21060.45         0\n",
       "3  106.0   745.53      81.0   8437.39         1\n",
       "4   66.0   418.74       1.0  14502.75         0"
      ]
     },
     "metadata": {},
     "output_type": "display_data"
    },
    {
     "name": "stdout",
     "output_type": "stream",
     "text": [
      "\n",
      "DataFrame Info:\n",
      "\n",
      "<class 'pandas.core.frame.DataFrame'>\n",
      "RangeIndex: 3214 entries, 0 to 3213\n",
      "Data columns (total 5 columns):\n",
      "calls       3214 non-null float64\n",
      "minutes     3214 non-null float64\n",
      "messages    3214 non-null float64\n",
      "mb_used     3214 non-null float64\n",
      "is_ultra    3214 non-null int64\n",
      "dtypes: float64(4), int64(1)\n",
      "memory usage: 125.7 KB\n",
      "None\n"
     ]
    }
   ],
   "source": [
    "print(\"Sample of DataFrame:\")\n",
    "display(user_df.head())\n",
    "print(\"\\nDataFrame Info:\\n\")\n",
    "print(user_df.info())"
   ]
  },
  {
   "cell_type": "markdown",
   "metadata": {},
   "source": [
    "1.2 Notes: Our DataFrame is comprised of 5 columns - that is, calls, minutes, messages, mb_used, and is_ultra. Since the data has been preprocessed, there are no missing values in any column. Additionally, all columns are of the proper datatype. For the purposes of buidling a machine learning model, we have identified the 'is_ultra' column as containing target values. The rest of the columns will be considered as features."
   ]
  },
  {
   "cell_type": "markdown",
   "metadata": {},
   "source": [
    "### Split the Data Into Training, Validation, and Testing Datasets<a class=\"anchor\" id='1.3'></a>"
   ]
  },
  {
   "cell_type": "code",
   "execution_count": 4,
   "metadata": {},
   "outputs": [],
   "source": [
    "#Use numpy's .split() method to split the DataFrame into train, test, and validate datasets.\n",
    "#The sample method returns a randomized version of user_df.\n",
    "train, validate, test = np.split(user_df.sample(frac=1, random_state=54321), [int(.6*len(user_df)), int(.8*len(user_df))])"
   ]
  },
  {
   "cell_type": "code",
   "execution_count": 5,
   "metadata": {},
   "outputs": [],
   "source": [
    "#Separate the train, validate, and test sets into feature and target datasets.\n",
    "train_X = train.drop(columns='is_ultra', axis=0)\n",
    "train_y = train['is_ultra']\n",
    "\n",
    "validate_X = validate.drop(columns='is_ultra', axis=0)\n",
    "validate_y = validate['is_ultra']\n",
    "\n",
    "test_X = test.drop(columns='is_ultra', axis=0)\n",
    "test_y = test['is_ultra']"
   ]
  },
  {
   "cell_type": "markdown",
   "metadata": {},
   "source": [
    "1.3 Notes: In this subsection, we used numpy's split method to initially split the data into 3 sets. We found this method cleaner than using sklearn's train_test_split method twice. We split the data according to the generally accepted 3:1:1 rule, where 60% of the data is for training, 20% for validating, and 20% for testing. In the following section, one can see that we determined the best parameters for a model by examining the accuracy of the model in predicting the targets values for the validation dataset; we did this to mitigate the risk of the model we select being overfitted to the training dataset. \n",
    "\n",
    "After initially splitting the user_df DataFrame into three different sets, we created to further datasets from each - one that contains all the feature data, and one that only contains target data."
   ]
  },
  {
   "cell_type": "markdown",
   "metadata": {},
   "source": [
    "## Model Training<a class=\"anchor\" id='2'></a>"
   ]
  },
  {
   "cell_type": "markdown",
   "metadata": {},
   "source": [
    "In this section we will build numerous logistic regression, decision tree, and random forest models while altering key hyperparameters. We will save the accuracy score from each iteration of each model and build confusion matrices using the data from the version of each model with the highest accracy score."
   ]
  },
  {
   "cell_type": "markdown",
   "metadata": {},
   "source": [
    "### Logistic Regression Model<a class=\"anchor\" id='2.1'></a>"
   ]
  },
  {
   "cell_type": "code",
   "execution_count": 6,
   "metadata": {},
   "outputs": [],
   "source": [
    "#Create a list of solvers to be tested.\n",
    "solvers = ['newton-cg', 'lbfgs', 'liblinear', 'sag', 'saga']\n",
    "\n",
    "#Create an empty list to store the values for testing the model's accuracy.\n",
    "LRvalues = []\n",
    "\n",
    "#Creat a variable in which to store the confusion matrix and the accuracy score for the model with the higest accuracy.\n",
    "LogisticR_confusion_array = 0\n",
    "LogisticR_highest_accuracy = 0\n",
    "    \n",
    "#For loop to iterate through the solver hyperparameter values and train/test the model for each parameter.\n",
    "for i in solvers:\n",
    "    logisticR_model = LogisticRegression(random_state=12345, solver=i, max_iter=100)\n",
    "    logisticR_model.fit(train_X, train_y)\n",
    "    score = logisticR_model.score(train_X, train_y)\n",
    "    validation_accuracy = accuracy_score(validate_y, logisticR_model.predict(validate_X))\n",
    "    LRvalues.append([score, validation_accuracy])\n",
    "    \n",
    "    #Add the confusion matrix for the model with the highest accuracy to LogisticR_confusion_array.\n",
    "    if validation_accuracy > LogisticR_highest_accuracy:\n",
    "        LogisticR_highest_accuracy = validation_accuracy\n",
    "        LogisticR_confusion_array = confusion_matrix(validate_y, logisticR_model.predict(validate_X))"
   ]
  },
  {
   "cell_type": "code",
   "execution_count": 7,
   "metadata": {},
   "outputs": [
    {
     "data": {
      "text/html": [
       "<div>\n",
       "<style scoped>\n",
       "    .dataframe tbody tr th:only-of-type {\n",
       "        vertical-align: middle;\n",
       "    }\n",
       "\n",
       "    .dataframe tbody tr th {\n",
       "        vertical-align: top;\n",
       "    }\n",
       "\n",
       "    .dataframe thead th {\n",
       "        text-align: right;\n",
       "    }\n",
       "</style>\n",
       "<table border=\"1\" class=\"dataframe\">\n",
       "  <thead>\n",
       "    <tr style=\"text-align: right;\">\n",
       "      <th></th>\n",
       "      <th>Score</th>\n",
       "      <th>Validation Accuracy</th>\n",
       "    </tr>\n",
       "    <tr>\n",
       "      <th>Solver</th>\n",
       "      <th></th>\n",
       "      <th></th>\n",
       "    </tr>\n",
       "  </thead>\n",
       "  <tbody>\n",
       "    <tr>\n",
       "      <td>newton-cg</td>\n",
       "      <td>0.747407</td>\n",
       "      <td>0.760498</td>\n",
       "    </tr>\n",
       "    <tr>\n",
       "      <td>lbfgs</td>\n",
       "      <td>0.696577</td>\n",
       "      <td>0.716952</td>\n",
       "    </tr>\n",
       "    <tr>\n",
       "      <td>liblinear</td>\n",
       "      <td>0.693983</td>\n",
       "      <td>0.720062</td>\n",
       "    </tr>\n",
       "    <tr>\n",
       "      <td>sag</td>\n",
       "      <td>0.692946</td>\n",
       "      <td>0.715397</td>\n",
       "    </tr>\n",
       "    <tr>\n",
       "      <td>saga</td>\n",
       "      <td>0.692427</td>\n",
       "      <td>0.715397</td>\n",
       "    </tr>\n",
       "  </tbody>\n",
       "</table>\n",
       "</div>"
      ],
      "text/plain": [
       "              Score  Validation Accuracy\n",
       "Solver                                  \n",
       "newton-cg  0.747407             0.760498\n",
       "lbfgs      0.696577             0.716952\n",
       "liblinear  0.693983             0.720062\n",
       "sag        0.692946             0.715397\n",
       "saga       0.692427             0.715397"
      ]
     },
     "metadata": {},
     "output_type": "display_data"
    }
   ],
   "source": [
    "#Create DataFrame to depict the values from each logistic regression model.\n",
    "df_logisticR = pd.DataFrame(LRvalues, columns=['Score', 'Validation Accuracy'], index=solvers)\n",
    "df_logisticR.index.name = 'Solver'\n",
    "display(df_logisticR.head())"
   ]
  },
  {
   "cell_type": "code",
   "execution_count": 8,
   "metadata": {},
   "outputs": [
    {
     "data": {
      "image/png": "[encoded data removed]",
      "text/plain": [
       "<Figure size 720x360 with 2 Axes>"
      ]
     },
     "metadata": {
      "needs_background": "light"
     },
     "output_type": "display_data"
    }
   ],
   "source": [
    "#Create confusion matrix to visualize the classification accuracy.\n",
    "LogisticR_cm = pd.DataFrame(LogisticR_confusion_array, index = ['Smart', 'Ultra'],\n",
    "                  columns = ['Smart', 'Ultra'])\n",
    "plt.figure(figsize = (10,5))\n",
    "sn.heatmap(LogisticR_cm, annot=True, cmap='Blues', fmt='g')\n",
    "plt.suptitle(\"Confusion Matrix for Best Logistic Regression Model\", fontsize=15)\n",
    "plt.ylabel(\"Actual\", fontsize=12)\n",
    "plt.xlabel(\"Predicted\", fontsize=12)\n",
    "plt.show()"
   ]
  },
  {
   "cell_type": "markdown",
   "metadata": {},
   "source": [
    "2.1 Notes: For logistic regession, we decided to iterate through the possible solvers that can be used for the model and test the accracy of each model on the validation dataset. We found that using the 'newton-cg' solver provides the highest accuracy (i.e., approximately .76). Our confusion matrix shows the number of correct and incorrect classifications made by the model. As it turns out, the model was far more accurate at identifying users on the Smart plan than on the Ultra plan. "
   ]
  },
  {
   "cell_type": "markdown",
   "metadata": {},
   "source": [
    "### Decision Tree Model<a class=\"anchor\" id='2.2'></a>"
   ]
  },
  {
   "cell_type": "code",
   "execution_count": 9,
   "metadata": {},
   "outputs": [],
   "source": [
    "#Create list for min_impurity_decrease to iterate through.\n",
    "min_impurity_vals = [0, .05, .1, .15, .2, .25]\n",
    "\n",
    "#Create an empty list to store the values for testing the model's accuracy.\n",
    "DTvalues = []\n",
    "\n",
    "#Creat a variable in which to store the confusion matrix and the accuracy score for the model with the higest accuracy.\n",
    "DT_confusion_array = 0\n",
    "DT_highest_accuracy = 0\n",
    "\n",
    "#For loop to iterate through the depth and min_impurity_decrease hyperparameter values and train/test the model for each parameter.\n",
    "for depth in range(1, 15, 2):\n",
    "    for impurity in min_impurity_vals:\n",
    "        DT_model = DecisionTreeClassifier(random_state=12345, max_depth=depth, min_impurity_decrease=impurity)\n",
    "        DT_model.fit(train_X, train_y)\n",
    "        score = DT_model.score(train_X, train_y)\n",
    "        validation_accuracy = accuracy_score(validate_y, DT_model.predict(validate_X))\n",
    "        DTvalues.append([depth, impurity, score, validation_accuracy])\n",
    "        \n",
    "        #Add the confusion matrix for the model with the highest accuracy to DT_confusion_array.\n",
    "        if validation_accuracy > DT_highest_accuracy:\n",
    "            DT_highest_accuracy = validation_accuracy\n",
    "            DT_confusion_array = confusion_matrix(validate_y, DT_model.predict(validate_X))\n",
    "    "
   ]
  },
  {
   "cell_type": "code",
   "execution_count": 10,
   "metadata": {},
   "outputs": [
    {
     "data": {
      "text/html": [
       "<div>\n",
       "<style scoped>\n",
       "    .dataframe tbody tr th:only-of-type {\n",
       "        vertical-align: middle;\n",
       "    }\n",
       "\n",
       "    .dataframe tbody tr th {\n",
       "        vertical-align: top;\n",
       "    }\n",
       "\n",
       "    .dataframe thead th {\n",
       "        text-align: right;\n",
       "    }\n",
       "</style>\n",
       "<table border=\"1\" class=\"dataframe\">\n",
       "  <thead>\n",
       "    <tr style=\"text-align: right;\">\n",
       "      <th></th>\n",
       "      <th>Depth</th>\n",
       "      <th>Impurity</th>\n",
       "      <th>Score</th>\n",
       "      <th>Validation Accuracy</th>\n",
       "    </tr>\n",
       "  </thead>\n",
       "  <tbody>\n",
       "    <tr>\n",
       "      <td>18</td>\n",
       "      <td>7</td>\n",
       "      <td>0.0</td>\n",
       "      <td>0.843880</td>\n",
       "      <td>0.791602</td>\n",
       "    </tr>\n",
       "    <tr>\n",
       "      <td>6</td>\n",
       "      <td>3</td>\n",
       "      <td>0.0</td>\n",
       "      <td>0.801349</td>\n",
       "      <td>0.790047</td>\n",
       "    </tr>\n",
       "    <tr>\n",
       "      <td>12</td>\n",
       "      <td>5</td>\n",
       "      <td>0.0</td>\n",
       "      <td>0.820021</td>\n",
       "      <td>0.788491</td>\n",
       "    </tr>\n",
       "    <tr>\n",
       "      <td>24</td>\n",
       "      <td>9</td>\n",
       "      <td>0.0</td>\n",
       "      <td>0.865664</td>\n",
       "      <td>0.785381</td>\n",
       "    </tr>\n",
       "    <tr>\n",
       "      <td>30</td>\n",
       "      <td>11</td>\n",
       "      <td>0.0</td>\n",
       "      <td>0.897303</td>\n",
       "      <td>0.772939</td>\n",
       "    </tr>\n",
       "  </tbody>\n",
       "</table>\n",
       "</div>"
      ],
      "text/plain": [
       "    Depth  Impurity     Score  Validation Accuracy\n",
       "18      7       0.0  0.843880             0.791602\n",
       "6       3       0.0  0.801349             0.790047\n",
       "12      5       0.0  0.820021             0.788491\n",
       "24      9       0.0  0.865664             0.785381\n",
       "30     11       0.0  0.897303             0.772939"
      ]
     },
     "metadata": {},
     "output_type": "display_data"
    }
   ],
   "source": [
    "#Create DataFrame to depict the values from each decision tree model. Sort according to highest validation accuracy.\n",
    "df_DTree = pd.DataFrame(DTvalues, columns=['Depth', 'Impurity', 'Score', 'Validation Accuracy'])\n",
    "df_DTree.sort_values(by='Validation Accuracy', inplace=True, ascending=False)\n",
    "display(df_DTree.head())"
   ]
  },
  {
   "cell_type": "code",
   "execution_count": 11,
   "metadata": {
    "scrolled": false
   },
   "outputs": [
    {
     "data": {
      "image/png": "[encoded data removed]",
      "text/plain": [
       "<Figure size 720x360 with 2 Axes>"
      ]
     },
     "metadata": {
      "needs_background": "light"
     },
     "output_type": "display_data"
    }
   ],
   "source": [
    "#Create confusion matrix to visualize the decision tree's classification accuracy.\n",
    "DTree_cm = pd.DataFrame(DT_confusion_array, index = ['Smart', 'Ultra'],\n",
    "                  columns = ['Smart', 'Ultra'])\n",
    "plt.figure(figsize = (10,5))\n",
    "sn.heatmap(DTree_cm, annot=True, cmap='Blues', fmt='g')\n",
    "plt.suptitle(\"Confusion Matrix for Best Decision Tree Model\", fontsize=15)\n",
    "plt.ylabel(\"Actual\", fontsize=12)\n",
    "plt.xlabel(\"Predicted\", fontsize=12)\n",
    "plt.show()"
   ]
  },
  {
   "cell_type": "markdown",
   "metadata": {},
   "source": [
    "2.2 Notes: In this subsection, we iterated through a range of tree depths and minimum impurity values to find the decision tree model with the highest accuracy. The minimum impurity values stop a decision tree from splitting if a split does not result in a decrase of impurity greater than the specified level (note, an impurity value of 0 means that all items are correctly classified). While we found that the best decision tree model classified fewer Smart plans correctly than the logistic regressor, it also classified fewer Ultra plans incorrectly. Overall, the accuracy of this model with regard to the validation dataset is approximately .80. The model correctly classified around 92% of Smart plan users and apprimately 46% of Ultra plan users. Given that the accuracy score of the model on the validation dataset is only slightly lower than the model's score with the training dataset, it appears that the model is not overfitted. "
   ]
  },
  {
   "cell_type": "markdown",
   "metadata": {},
   "source": [
    "### Random Forest Model<a class=\"anchor\" id='2.3'></a>"
   ]
  },
  {
   "cell_type": "code",
   "execution_count": 12,
   "metadata": {},
   "outputs": [],
   "source": [
    "#Create an empty list to store the values for testing the model's accuracy.\n",
    "RFvalues = []\n",
    "\n",
    "#Creat a variable in which to store the confusion matrix and the accuracy score for the model with the higest accuracy.\n",
    "RF_confusion_array = 0\n",
    "RF_highest_accuracy = 0\n",
    "\n",
    "#Iterate through a range of values for the estimators, depth, and impurity hyperparameters.\n",
    "for estimators in range(1, 50, 5):\n",
    "    for depth in range(1, 30, 5):\n",
    "        for impurity in min_impurity_vals:\n",
    "            RF_model = RandomForestClassifier(random_state=12345, max_depth=depth, min_impurity_decrease=impurity, n_estimators=estimators)\n",
    "            RF_model.fit(train_X, train_y)\n",
    "            score = RF_model.score(train_X, train_y)\n",
    "            validation_accuracy = accuracy_score(validate_y, RF_model.predict(validate_X))\n",
    "            RFvalues.append([depth, estimators, impurity, score, validation_accuracy])\n",
    "            if validation_accuracy > RF_highest_accuracy:\n",
    "                RF_highest_accuracy = validation_accuracy\n",
    "                RF_confusion_array = confusion_matrix(validate_y, RF_model.predict(validate_X))"
   ]
  },
  {
   "cell_type": "code",
   "execution_count": 13,
   "metadata": {},
   "outputs": [
    {
     "data": {
      "text/html": [
       "<div>\n",
       "<style scoped>\n",
       "    .dataframe tbody tr th:only-of-type {\n",
       "        vertical-align: middle;\n",
       "    }\n",
       "\n",
       "    .dataframe tbody tr th {\n",
       "        vertical-align: top;\n",
       "    }\n",
       "\n",
       "    .dataframe thead th {\n",
       "        text-align: right;\n",
       "    }\n",
       "</style>\n",
       "<table border=\"1\" class=\"dataframe\">\n",
       "  <thead>\n",
       "    <tr style=\"text-align: right;\">\n",
       "      <th></th>\n",
       "      <th>Max_Depth</th>\n",
       "      <th>Estimators</th>\n",
       "      <th>Impurity</th>\n",
       "      <th>Score</th>\n",
       "      <th>Validation Accuracy</th>\n",
       "    </tr>\n",
       "  </thead>\n",
       "  <tbody>\n",
       "    <tr>\n",
       "      <td>138</td>\n",
       "      <td>26</td>\n",
       "      <td>16</td>\n",
       "      <td>0.0</td>\n",
       "      <td>0.988589</td>\n",
       "      <td>0.813375</td>\n",
       "    </tr>\n",
       "    <tr>\n",
       "      <td>264</td>\n",
       "      <td>11</td>\n",
       "      <td>36</td>\n",
       "      <td>0.0</td>\n",
       "      <td>0.902490</td>\n",
       "      <td>0.811820</td>\n",
       "    </tr>\n",
       "    <tr>\n",
       "      <td>78</td>\n",
       "      <td>6</td>\n",
       "      <td>11</td>\n",
       "      <td>0.0</td>\n",
       "      <td>0.835062</td>\n",
       "      <td>0.810264</td>\n",
       "    </tr>\n",
       "    <tr>\n",
       "      <td>300</td>\n",
       "      <td>11</td>\n",
       "      <td>41</td>\n",
       "      <td>0.0</td>\n",
       "      <td>0.901452</td>\n",
       "      <td>0.810264</td>\n",
       "    </tr>\n",
       "    <tr>\n",
       "      <td>228</td>\n",
       "      <td>11</td>\n",
       "      <td>31</td>\n",
       "      <td>0.0</td>\n",
       "      <td>0.901971</td>\n",
       "      <td>0.810264</td>\n",
       "    </tr>\n",
       "  </tbody>\n",
       "</table>\n",
       "</div>"
      ],
      "text/plain": [
       "     Max_Depth  Estimators  Impurity     Score  Validation Accuracy\n",
       "138         26          16       0.0  0.988589             0.813375\n",
       "264         11          36       0.0  0.902490             0.811820\n",
       "78           6          11       0.0  0.835062             0.810264\n",
       "300         11          41       0.0  0.901452             0.810264\n",
       "228         11          31       0.0  0.901971             0.810264"
      ]
     },
     "metadata": {},
     "output_type": "display_data"
    }
   ],
   "source": [
    "#Create DataFrame to depict the values from each random forest model. Sort according to highest validation accuracy.\n",
    "df_RForest = pd.DataFrame(RFvalues, columns=['Max_Depth', 'Estimators', 'Impurity', 'Score', 'Validation Accuracy'])\n",
    "df_RForest.sort_values(by='Validation Accuracy', inplace=True, ascending=False)\n",
    "display(df_RForest.head())"
   ]
  },
  {
   "cell_type": "code",
   "execution_count": 14,
   "metadata": {},
   "outputs": [
    {
     "data": {
      "image/png": "[encoded data removed]",
      "text/plain": [
       "<Figure size 720x360 with 2 Axes>"
      ]
     },
     "metadata": {
      "needs_background": "light"
     },
     "output_type": "display_data"
    }
   ],
   "source": [
    "#Create confusion matrix to visualize the random forest's classification accuracy.\n",
    "RForest_cm = pd.DataFrame(RF_confusion_array, index = ['Smart', 'Ultra'],\n",
    "                  columns = ['Smart', 'Ultra'])\n",
    "plt.figure(figsize = (10,5))\n",
    "sn.heatmap(RForest_cm, annot=True, cmap='Blues', fmt='g')\n",
    "plt.suptitle(\"Confusion Matrix for Best Random Forest Model\", fontsize=15)\n",
    "plt.ylabel(\"Actual\", fontsize=12)\n",
    "plt.xlabel(\"Predicted\", fontsize=12)\n",
    "plt.show()"
   ]
  },
  {
   "cell_type": "markdown",
   "metadata": {},
   "source": [
    "2.3 Notes: In this subsection we tested numerous random forest models by iterating through a range of values for the depth, n-estimators, and min_impurity_decrease hyperparameters. Overall, it appears that a random forest model with a depth of 26 and 16 estimates is most accurate at classifying the validation dataset's targets. While the model's score is above .98, which is suggestive of overfitting, the classification accuracy is .81 for the validation dataset. From the confusion matrix, we can see that the model correctly classified approximately 90% of users on the Smart plan and around 61% of users on the ultra plan. "
   ]
  },
  {
   "cell_type": "markdown",
   "metadata": {},
   "source": [
    "### Model Training Conclusion<a class=\"anchor\" id='2.4'></a>"
   ]
  },
  {
   "cell_type": "markdown",
   "metadata": {},
   "source": [
    "In this section we focused on building decision tree, logistic regression, and random forest models, which are three of the most popular machine learning algorithms for classification tasks. In doing so, we altered specific hyperparameters by iterating through a series of values for each. Overall, we found that the best version of each model preducts whether users in the validation dataset are on the Ultra or Smart plan with accuracy of above .75. We found that the most accurate model is a random forest, with a depth of 26, 16 trees in the forest, and a minimum impurity decrease value of 0. In the next section, we will test the best version of each model on the test datasets."
   ]
  },
  {
   "cell_type": "markdown",
   "metadata": {},
   "source": [
    "## Model Testing<a class=\"anchor\" id='3'></a>"
   ]
  },
  {
   "cell_type": "markdown",
   "metadata": {},
   "source": [
    "In this section we will use the hyperparameters identified with the best version of each of the aforementioned models to test the models' accuracy in classifying users' plans in the test dataset. The test dataset is comprised of 20% of the rows from the user_df DataFrame; these rows were randomly selected using the Pandas .sample() method."
   ]
  },
  {
   "cell_type": "markdown",
   "metadata": {},
   "source": [
    "### Logistic Regression Test<a class=\"anchor\" id='3.1'></a>"
   ]
  },
  {
   "cell_type": "code",
   "execution_count": 15,
   "metadata": {},
   "outputs": [
    {
     "name": "stdout",
     "output_type": "stream",
     "text": [
      "The logistic regression model's accuracy score is: 0.7325038880248833\n"
     ]
    }
   ],
   "source": [
    "#Create model, fit it to the training dataset, and test its accuracy with the test dataset.\n",
    "logisticR_Test_Model = LogisticRegression(random_state=12345, solver='newton-cg', max_iter=100)\n",
    "logisticR_Test_Model.fit(train_X, train_y)\n",
    "logisticR_Test_Model_Accuracy = accuracy_score(test_y, logisticR_Test_Model.predict(test_X))\n",
    "print(\"The logistic regression model's accuracy score is: {}\".format(logisticR_Test_Model_Accuracy)) #Better than validation and Score"
   ]
  },
  {
   "cell_type": "markdown",
   "metadata": {},
   "source": [
    "3.1 Notes: Whereas the accuracy of this model with regard to the validation dataset was about .76, it's accuracy with regard to the test dataset is about .03 points lower. This may be explained by model being somewhat overfitted to the validation dataset. We will go into more detail on this subject in subsection 3.4."
   ]
  },
  {
   "cell_type": "markdown",
   "metadata": {},
   "source": [
    "### Decision Tree Test<a class=\"anchor\" id='3.2'></a>"
   ]
  },
  {
   "cell_type": "code",
   "execution_count": 16,
   "metadata": {},
   "outputs": [
    {
     "name": "stdout",
     "output_type": "stream",
     "text": [
      "The decision tree model's accuracy score is: 0.7869362363919129\n"
     ]
    }
   ],
   "source": [
    "#Create model, fit it to the training dataset, and test its accuracy with the test dataset.\n",
    "DT_Test_Model = DecisionTreeClassifier(random_state=12345, max_depth=5, min_impurity_decrease=0.0)\n",
    "DT_Test_Model.fit(train_X, train_y)\n",
    "DT_Test_Model_Accuracy = accuracy_score(test_y, DT_Test_Model.predict(test_X))\n",
    "print(\"The decision tree model's accuracy score is: {}\".format(DT_Test_Model_Accuracy))"
   ]
  },
  {
   "cell_type": "markdown",
   "metadata": {},
   "source": [
    "3.2 Notes: In subsection 2.2, we found that the best decision tree model performed with an accuracy score of approximately .79. The model's accuracy with regard to the test dataset differs by less than .01 point, which suggests that the model is not overfitted to the training and validation datasets."
   ]
  },
  {
   "cell_type": "markdown",
   "metadata": {},
   "source": [
    "### Random Forest Test<a class=\"anchor\" id='3.3'></a>"
   ]
  },
  {
   "cell_type": "code",
   "execution_count": 17,
   "metadata": {},
   "outputs": [
    {
     "name": "stdout",
     "output_type": "stream",
     "text": [
      "The random forest model's accuracy score is: 0.7900466562986003\n"
     ]
    }
   ],
   "source": [
    "#Create model, fit it to the training dataset, and test its accuracy with the test dataset.\n",
    "RF_Test_Model = RandomForestClassifier(random_state=12345, max_depth=26, min_impurity_decrease=0.0, n_estimators=16)\n",
    "RF_Test_Model.fit(train_X, train_y)\n",
    "RF_Test_Model_Accuracy = accuracy_score(test_y, RF_Test_Model.predict(test_X))\n",
    "print(\"The random forest model's accuracy score is: {}\".format(RF_Test_Model_Accuracy))"
   ]
  },
  {
   "cell_type": "markdown",
   "metadata": {},
   "source": [
    "3.3 Notes: As we saw with the logistic regression model, the random forest model's accuracy with regard to the test dataset is lower than with the validation dataset; however, the difference is less pronounced with the random forest model. The model's score with the validation dataset was approximately .81, which is only around .02 points greater than the model's score with the test set. Nonetheless, our random forest model appears to be the most accurate model of the bunch, at least with regard to the test dataset."
   ]
  },
  {
   "cell_type": "markdown",
   "metadata": {},
   "source": [
    "### Model Testing Conclusion<a class=\"anchor\" id='3.4'></a>"
   ]
  },
  {
   "cell_type": "markdown",
   "metadata": {},
   "source": [
    "By way of testing our random forest, logistic regression, and decision tree models using our test dataset, we found that the random forest model has the highest overall accuracy, which is to say that it is the model which best classifies users in the test dataset according to whether they are on the Smart or Ultra plan. As Megaline requested a model with an accuracy of at least .75, our random forest model, with an accuracy of about .79 clearly meets their requirements. \n",
    "\n",
    "To note, our test accuracies for the random forest and logistic regression models were slightly lower than the models' accuracies with regard to the validation dataset. As we mentioned, this might be due to the models being slightly overfitted to the validation dataset. Whereas we trained the models using the training dataset, we used the validation dataset to tune the hyperparameters in such a way that would provide us with the highest accuracy scores. Since we tuned the hyperparameters in order to obtain the highest accuracy scores for the validation dataset, it may be argued that the dataset essentially functioned as part of the training dataset and, as such, may have resulted in the models being slightly overfitted to the validation dataset. \n",
    "\n",
    "In any case, to get an even better feel for the accuracy of our model, we would recommend testing the model on a dataset that is not a subset of the user_df dataframe, from which we took out training, validation, and testing datasets, but rather another dataset altogether. If another dataset was populated with data from a different population, it may have an affect on the random forest model's accuracy."
   ]
  },
  {
   "cell_type": "markdown",
   "metadata": {},
   "source": [
    "## Sanity Checking<a class=\"anchor\" id='4'></a>"
   ]
  },
  {
   "cell_type": "markdown",
   "metadata": {},
   "source": [
    "Sanity checking essentially involves determining whether the results of one's test could be reasonably expected. In carrying out a sanity check, we will examine our data in an attempt to understand whether our random forest model's accuracy score is misleading."
   ]
  },
  {
   "cell_type": "markdown",
   "metadata": {},
   "source": [
    "### Check for Duplicates<a class=\"anchor\" id='4.1'></a>"
   ]
  },
  {
   "cell_type": "code",
   "execution_count": 18,
   "metadata": {},
   "outputs": [
    {
     "name": "stdout",
     "output_type": "stream",
     "text": [
      "There are 0 duplicate rows in user_df.\n"
     ]
    }
   ],
   "source": [
    "print(\"There are {} duplicate rows in user_df.\".format(user_df.duplicated().sum()))"
   ]
  },
  {
   "cell_type": "markdown",
   "metadata": {},
   "source": [
    "### Check for Negative Values<a class=\"anchor\" id='4.2'></a>"
   ]
  },
  {
   "cell_type": "code",
   "execution_count": 19,
   "metadata": {},
   "outputs": [
    {
     "name": "stdout",
     "output_type": "stream",
     "text": [
      "There are 0 negative values in user_df.\n"
     ]
    }
   ],
   "source": [
    "print(\"There are {} negative values in user_df.\".format(sum(n < 0 for n in user_df.values.flatten())))"
   ]
  },
  {
   "cell_type": "markdown",
   "metadata": {},
   "source": [
    "### Generate Classification Report<a class=\"anchor\" id='4.3'></a>"
   ]
  },
  {
   "cell_type": "code",
   "execution_count": 20,
   "metadata": {},
   "outputs": [
    {
     "name": "stdout",
     "output_type": "stream",
     "text": [
      "        Classification Report for Random Forest Test Model\n",
      "\n",
      "              precision    recall  f1-score   support\n",
      "\n",
      "       Smart       0.80      0.91      0.85       434\n",
      "       Ultra       0.75      0.53      0.62       209\n",
      "\n",
      "    accuracy                           0.79       643\n",
      "   macro avg       0.78      0.72      0.74       643\n",
      "weighted avg       0.79      0.79      0.78       643\n",
      "\n"
     ]
    },
    {
     "data": {
      "image/png": "[encoded data removed]",
      "text/plain": [
       "<Figure size 720x360 with 2 Axes>"
      ]
     },
     "metadata": {
      "needs_background": "light"
     },
     "output_type": "display_data"
    }
   ],
   "source": [
    "#Generate classification report for random forest test.\n",
    "print(\"        Classification Report for Random Forest Test Model\\n\")\n",
    "print(classification_report(test_y, RF_Test_Model.predict(test_X), target_names=['Smart', 'Ultra']))\n",
    "\n",
    "rf_test_confusion_array = confusion_matrix(test_y, RF_Test_Model.predict(test_X))\n",
    "\n",
    "#Create confusion matrix to visualize the random forest's classification accuracy.\n",
    "RForest_test_cm = pd.DataFrame(rf_test_confusion_array, index = ['Smart', 'Ultra'],\n",
    "                  columns = ['Smart', 'Ultra'])\n",
    "plt.figure(figsize = (10,5))\n",
    "sn.heatmap(RForest_test_cm, annot=True, cmap='Blues', fmt='g')\n",
    "plt.suptitle(\"Confusion Matrix for Random Forest Test Model\", fontsize=15)\n",
    "plt.ylabel(\"Actual\", fontsize=12)\n",
    "plt.xlabel(\"Predicted\", fontsize=12)\n",
    "plt.show()"
   ]
  },
  {
   "cell_type": "markdown",
   "metadata": {},
   "source": [
    "4.3 Notes: Whereas a model's accuracy score tells us the ratio of the number of correct answers to the total number of questions, it's useful to consider other metrics when measuring the effectiveness of a model. From the above classification report, we can see the model's precision, recall, and f1-score for each label. These scores represent the following:\n",
    "\n",
    "* Precision: The percentage of our model's predictions that were correct. This is calculated as the number of true positives divided by the number of true positives and false positives.\n",
    "\n",
    "\n",
    "* Recall: The percentage of positives that the model caught. This is calculated as the number of true positives divided by the number of true positives and false negatives.\n",
    "\n",
    "\n",
    "* f1-score: This represents the weighted average of the precision and recall. The best value is 1 and the worst is 0.\n",
    "\n",
    "From the values listed in the classification report, our suspicion that the model is better at classifying users on the Smart plan over the Ultra plan is supported. Our model's precision, recall, and f1-scores are notably higher for the Smart label than Ultra. As can be seen, out model only correctly classified approximately half of the Ultra users. Our confusion matrix for this model on the test dataset confirms this. So, wheras our model has a relatively high accuracy score, it is lacking in its ability to classify users on the Ultra plan. \n",
    "\n",
    "At this stage, we hypothesize that the model's inability to classify users on the Ultra plan as well as those on the Smart plan is due to there being a higher variance in feature values for Ultra plan users than Smart plan users. With a higher variance, it is likely that much of the feature values for Ultra plan users overlaps with the values of Smart plan users, which would make it difficult for the algorithm to effectively differentiate between users of each plan. Because of this, and the possible overrepresentation of Ultra users in the dataset, our model's accuracy score may be higher because it classifies more users as being on the Smart plan and such classifications have a greater chance of being true."
   ]
  },
  {
   "cell_type": "markdown",
   "metadata": {},
   "source": [
    "### Examine Distributions<a class=\"anchor\" id='4.4'></a>"
   ]
  },
  {
   "cell_type": "code",
   "execution_count": 21,
   "metadata": {},
   "outputs": [],
   "source": [
    "#Create DataFrames for users of each specific Megaline plan.\n",
    "ultra = user_df.loc[user_df['is_ultra'] == 1]\n",
    "not_ultra = user_df.loc[user_df['is_ultra'] != 1]\n",
    "ultra.reset_index(inplace=True, drop=True)\n",
    "not_ultra.reset_index(inplace=True, drop=True)"
   ]
  },
  {
   "cell_type": "code",
   "execution_count": 22,
   "metadata": {},
   "outputs": [
    {
     "name": "stdout",
     "output_type": "stream",
     "text": [
      "              Ultra     Smart  proportion\n",
      "calls          1929       673       2.866\n",
      "minutes       94883     34045       2.787\n",
      "messages       2285       797       2.867\n",
      "mb_used   101751173  34462757       2.952\n"
     ]
    }
   ],
   "source": [
    "#Check the variance in values for users of each plan.\n",
    "variance_DF = pd.DataFrame({'Ultra' : [round(i) for i in ultra.var()[:-1]],\n",
    "                            'Smart' : [round(i) for i in not_ultra.var()[:-1]]},\n",
    "                          index=[i for i in ultra.columns[:-1]])\n",
    "\n",
    "#Get the proportion of Ultra to Smart variance.\n",
    "variance_DF['proportion'] = (variance_DF.Ultra / variance_DF.Smart).round(3)\n",
    "\n",
    "print(variance_DF)"
   ]
  },
  {
   "cell_type": "code",
   "execution_count": 23,
   "metadata": {},
   "outputs": [
    {
     "data": {
      "image/png": "[encoded data removed]",
      "text/plain": [
       "<Figure size 1080x1080 with 4 Axes>"
      ]
     },
     "metadata": {
      "needs_background": "light"
     },
     "output_type": "display_data"
    }
   ],
   "source": [
    "#Create list of columns to iterate through.\n",
    "columns = user_df.columns[:-1].to_list()\n",
    "\n",
    "#Create figure on which to plot subplots.\n",
    "fig, axs = plt.subplots(nrows=4, ncols=1, figsize=(15, 15))\n",
    "plt.suptitle(\"Histograms for Value Distributions for Each Feature Grouped by Target\", fontsize=15)\n",
    "\n",
    "#Create grouped histogram for each column.\n",
    "for column in columns:\n",
    "    axs[columns.index(column)].hist(ultra[column], density=False, bins=40, alpha=0.4, label='Ultra')\n",
    "    axs[columns.index(column)].hist(not_ultra[column], density=False, bins=40, alpha=0.5, label='Smart')\n",
    "    axs[columns.index(column)].legend()\n",
    "    axs[columns.index(column)].set_xlabel(\"Histogram for '\" + column + \"' Values\", fontsize=12)\n",
    "\n",
    "fig.subplots_adjust(hspace=.30)\n",
    "plt.subplots_adjust(top=0.95)\n",
    "plt.show()"
   ]
  },
  {
   "cell_type": "code",
   "execution_count": 24,
   "metadata": {},
   "outputs": [
    {
     "name": "stdout",
     "output_type": "stream",
     "text": [
      "The proportion of users on the Smart plan versus the Ultra plan is: 2.2629441624365483\n"
     ]
    }
   ],
   "source": [
    "#Calculate the proportion of users on the Smart plan versus the Ultra plan.\n",
    "print('The proportion of users on the Smart plan versus the Ultra plan is: {}' \\\n",
    "      .format(len(user_df.loc[user_df['is_ultra'] == 0]) / len(user_df.loc[user_df['is_ultra'] == 1])))"
   ]
  },
  {
   "cell_type": "markdown",
   "metadata": {},
   "source": [
    "4.4 Notes: In this subsection we calculated the variance in feature values for users of each plan. As we suspected, there is a far greater variance (nearly 3 times) for Ultra users' featuer values than Smart users'. Because of this, it is likely that much of the data for Smart users overlaps with the data for Ultra users. We built histograms to visualize the distribution of data and check whether our suspicion is correct.\n",
    "\n",
    "From the above grouped histograms, we can see that the range of values for those on the Ultra plan is wider than the range for those on the Smart plan. Additionally, the majority of values for users of the Ultra plan overlap it those of users on the Smart plan. We believe this is the reason behind our models' being far better at classifying users on the Smart plan than those on the Ultra plan. The algorithm would likely make predictions with a higher accuracy if there was a more pronounced difference in feature values between users of each plan. \n",
    "\n",
    "We also confirmed, that there are far more users on the Smart plan than on the Ultra plan (i.e., approximately 2.25 times more). Becuase of this, the algorithms may have been more finely tuned to select Smart users over Ultra users. We believe that, given the large amount of overlap in values for users of both plans, if we train a random forest model with the same hyperparameters we identified as providing the highest accuracy on a dataset with an equal distribution of Smart and Ultra users, the accuracy score would be lower for this model than the random forest model we tested above."
   ]
  },
  {
   "cell_type": "markdown",
   "metadata": {},
   "source": [
    "### Test Equally Distributed Dataset<a class=\"anchor\" id='4.5'></a>"
   ]
  },
  {
   "cell_type": "code",
   "execution_count": 25,
   "metadata": {},
   "outputs": [],
   "source": [
    "#Take random sample of 500 rows from both ultra and not_ultra dataframes.\n",
    "ultra_sample = ultra.sample(n=500, random_state=12345) \n",
    "not_ultra_sample = not_ultra.sample(n=500, random_state=12345)\n",
    "\n",
    "#Concatenate DataFrames for testing.\n",
    "sanity_frame = pd.concat([ultra_sample, not_ultra_sample])\n",
    "\n",
    "#Separate into features and target DataFrames.\n",
    "sanity_frame_X = sanity_frame.drop(columns='is_ultra', axis=0)\n",
    "sanity_frame_y = sanity_frame['is_ultra']\n",
    "\n",
    "#Separate into training and testing DataFrames.\n",
    "sanity_train_X, sanity_test_X, sanity_train_y, sanity_test_y = train_test_split(sanity_frame_X, sanity_frame_y, test_size=0.33, random_state=42)"
   ]
  },
  {
   "cell_type": "code",
   "execution_count": 26,
   "metadata": {},
   "outputs": [
    {
     "name": "stdout",
     "output_type": "stream",
     "text": [
      "The random forest model's accuracy score using equally distributed data is: 0.706060606060606\n"
     ]
    }
   ],
   "source": [
    "#Train and test a random forest model using the sanity sample and same hyperparameters as test model.\n",
    "RF_Sanity_Model = RandomForestClassifier(random_state=12345, max_depth=26, min_impurity_decrease=0.0, n_estimators=16)\n",
    "RF_Sanity_Model.fit(sanity_train_X, sanity_train_y)\n",
    "RF_Sanity_Model_Accuracy = accuracy_score(sanity_test_y, RF_Sanity_Model.predict(sanity_test_X))\n",
    "\n",
    "print(\"The random forest model's accuracy score using equally distributed data is: {}\".format(RF_Sanity_Model_Accuracy))"
   ]
  },
  {
   "cell_type": "markdown",
   "metadata": {},
   "source": [
    "4.5 Notes: In this subsection we created a DataFrame by concatening the ultra_sample and not_ultra_sample DataFrames. These DataFrames were each populated with 500 random samples, thus ensuring that there is an equal representation of Ultra and Smart users in the sanity_frame DataFrame. We then created a random forest model using the same hyperparameters as our test model in section 3.3 and fit the model to our sanity training data, which is comprised of approximately 66% of the data from the sanity_frame dataset. \n",
    "\n",
    "The accuracy score of module in relation to the sanity test dataset is approximately .71. This is quite a bit lower than the accuracy score of our test random forest model and supports our suspision - that is, given that there is a large overlap in feature values for Smart and Ultra users, and a larger variance in values for Ultra users, a random forest model would be less accurate at classifying which plan a user is on when there is an equal distribution of users, as opposed to our original dataset where there are approximately 2.25 more users on the Smart plan versus the Ultra plan. \n",
    "\n",
    "To note, we originally considered just performing a test using the equally distributed dataset and the random forest test model we created in section 3.3. However, we decided against this because the model was found to be quite overfitted - that is, it's score was about .99 in relation to the training data. Since there are less than 1000 Ultra users represented in the original dataset, it is likely that, with a population of 500 Ultra users in our sanity dataset, we would generate a higher accuracy score than the one for the random forest test model in section 3.3. This score would be misleading, as it would result from the overfitting of the data to the model; as such, we opted to retrain the model using around 66% of our sanity sample."
   ]
  },
  {
   "cell_type": "markdown",
   "metadata": {},
   "source": [
    "### Sanity Checking Conclusion<a class=\"anchor\" id='4.6'></a>"
   ]
  },
  {
   "cell_type": "markdown",
   "metadata": {},
   "source": [
    "Based on our examination of the user_df dataset, we believe that the accuracy score obtained for the random forest model on the test dataset is somewhat misleading. While it does indicate that the model is quite accurate in classifying users according to their Megaline plan, it is substantially less accurate at classifying Ultra users than Smart users. Our suspicion was that, because Smart users are over-represented in the dataset and because feature values for Ultra and Smart users largely overlap, our model may be tilted towards classifying individuals as being on the Smart plan over the Ultra plan. To test this hypothesis, we created a randomly generated DataFrame that is a subset of data from the user_df DataFrame and which contains data from an equal number of Smart and Ultra users. We then trained the random forest model on 2/3 of the data from this new dataset using the same hyperparameters as our test model in section 3. We then tested this model on 1/3 of the data from the new dataset and found that, as suspected, the accuracy score was notably lower than the score from our test model. This finding supports our view that the accuracy score from our model on the test set is misleading, as it is trained with one population being over-represented and with feature values largely overlapping for users of both plans."
   ]
  },
  {
   "cell_type": "markdown",
   "metadata": {},
   "source": [
    "## Conclusion<a class=\"anchor\" id='5'></a>"
   ]
  },
  {
   "cell_type": "markdown",
   "metadata": {},
   "source": [
    "For this project our task was to train a machine learning model to classify Megaline users based on whether they are on a Smart plan or Ultra plan with an accuracy of greater than .75. In carrying out this task, we separated data into training, validation, and testing datasets, and trained various logistic regression, decision tree, and random forest models while iterating through several key hyperparameters. Based on the accuracy scores for the models on the validation dataset, we found that the random forest model with a depth of 24 and 16 estimators was was the most accurate model. This held true when running the test dataset throught he model; however, the accuracy score for the model on the test dataset was slightly lower. \n",
    "\n",
    "We then performed a sanity check in order to determine whether the model's accuracy score on the test dataset was misleading. We hypothesized, in light of the high variance of data for Ultra users, the overlap of values for features for users on each plan, and the over-representation of data for Smart users in the original dataset, that the model would be less accurate at carrying out the classification task if the users of both plans were equally represented in the dataset. To test this, we randomly selected 500 rows of data for users of each plan from the user_df DataFrame, trained a random tree model using this dataset and with the hyperparameters tuned to the same values as with out test model, and obtained the accuracy score. It turns out our hypothesis was correct, as the model was less accurate at classifying users according to their plan when users of each plan were equally represented in the dataset.\n",
    "\n",
    "Overall, while our accuracy score for the random forest model on the test data was quite high (and above the required accuracy, as stated by Megaline), we believe that the over-representation of Smart users in the dataset and overlap of feature values for user of each plan caused the model to erroneously classify more users as having the Smart plan than Ultra plan. As such, we would recommend the following:\n",
    "\n",
    "1) **Collect more data for the model**: As was stated in the details of this project, Megaline's Ultra and Smart plans are new. Depending on how new the plans are, it is likely that many users on the Ultra plans have not become accumstomed to the allowances they have. We would recommend that Megaline continue to collect more data on individuals using each plan and retrain the random forest model using this new data.\n",
    "\n",
    "\n",
    "2) **Balance the datasets**: As was mentioned, there are approximately 3 times more Smart users represented in the dataset than Ultra users. We believe that by ensuring users of each plan are equally represented in the dataset, our model's accuracy score will more accurately reflect its ability to properly classify individuals on each plan.\n",
    "\n",
    "3) **Add additional features to the dataset**: We believe that more information could be added to the dataset to make the model more efficient. In our previous Megaline project, we calculated the extent to which individuals on each plan went above their allwances. We consider this information to be highly valuable, as we found that users on the plan with a lower allowance went over their limit more often and to a greater extent than users on the other plan. We believe that our model's accuracy score would be increased with this key piece of data."
   ]
  }
 ],
 "metadata": {
  "kernelspec": {
   "display_name": "Python 3",
   "language": "python",
   "name": "python3"
  },
  "language_info": {
   "codemirror_mode": {
    "name": "ipython",
    "version": 3
   },
   "file_extension": ".py",
   "mimetype": "text/x-python",
   "name": "python",
   "nbconvert_exporter": "python",
   "pygments_lexer": "ipython3",
   "version": "3.8.5"
  },
  "toc": {
   "base_numbering": 1,
   "nav_menu": {},
   "number_sections": true,
   "sideBar": true,
   "skip_h1_title": true,
   "title_cell": "Table of Contents",
   "title_sidebar": "Contents",
   "toc_cell": false,
   "toc_position": {},
   "toc_section_display": true,
   "toc_window_display": false
  }
 },
 "nbformat": 4,
 "nbformat_minor": 2
}
